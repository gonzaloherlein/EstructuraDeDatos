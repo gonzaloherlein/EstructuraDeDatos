{
 "cells": [
  {
   "cell_type": "markdown",
   "metadata": {
    "id": "42630xxYD0gZ"
   },
   "source": [
    "# ![alt text](https://upload.wikimedia.org/wikipedia/commons/thumb/c/c3/Python-logo-notext.svg/50px-Python-logo-notext.svg.png) **Trabajo Práctico 2: Tipos de datos abstractos** ![alt text](https://upload.wikimedia.org/wikipedia/commons/thumb/c/c3/Python-logo-notext.svg/50px-Python-logo-notext.svg.png)\n",
    "\n",
    "En este trabajo práctico, vamos a trabajar con la definición de tipos de datos abstractos en Python. Recuerden crear una copia de este archivo en su ***Google Drive*** para tener permisos de edición.\n",
    "\n",
    "### Sergio: **sergio.gonzalez@unahur.edu.ar** ###\n",
    "### Martin: **martin.pustilnik@unahur.edu.ar** ###\n"
   ]
  },
  {
   "cell_type": "markdown",
   "metadata": {
    "id": "cwvo5HlCXnwM"
   },
   "source": [
    "**En cada ejercicio, luego de implementar el TDA pedido, tienen que probar cada una de las operaciones en un programa principal, ejecutando cada una de ellas**\n",
    "\n",
    "**En el video les comenté de la función \\_\\_str__ para la representación de variables de los TDAs, en lugar de \\_\\_str__ pueden implementar \\_\\_repr__ que es similar pero más general (No solo sirve para el *print*, sino para la representación en general de variables del TDA)**\n"
   ]
  },
  {
   "cell_type": "code",
   "execution_count": null,
   "metadata": {
    "id": "Zw0Z6fHghB1P"
   },
   "outputs": [],
   "source": [
    "def validarTipo2(variable, nombre, tipo, condicion = True):\n",
    "  if isinstance(variable, tipo) and condicion:\n",
    "    return variable\n",
    "  else:\n",
    "    raise Exception(\"La variable \" + nombre + \" debe ser de tipo \" + str(tipo) + \". o falla la condicion \"  )\n",
    "\n",
    "def validarTipo(variable, nombre, tipo):\n",
    "  if isinstance(variable, tipo):\n",
    "    return variable\n",
    "  else:\n",
    "    raise Exception(\"La variable \" + nombre + \" debe ser de tipo \" + str(tipo) + \".\")\n",
    "\n",
    "def validarAño(año):\n",
    "  if validarTipo(año, \"año\", int) and año >= 1870:\n",
    "    return año\n",
    "  else:\n",
    "    raise Exception(\"Año incorrecto\")\n",
    "\n",
    "\n",
    "def validarAltura(altura):\n",
    "  if validarTipo(altura, \"altura\", float) and altura > 0:\n",
    "    return altura\n",
    "  else:\n",
    "    raise Exception(\"Altura incorrecta\")\n"
   ]
  },
  {
   "cell_type": "markdown",
   "metadata": {
    "id": "3JyR98y6eSSb"
   },
   "source": [
    "TDA :  objeto real (ej universidad)\n",
    "Modelo computacional:\n",
    "-que cosas nos interesan modelar de la universidad?\n",
    "\n",
    "Modelo1\n",
    "\n",
    "nombre\n",
    "cantidad de alumnos\n",
    "carreras que ofrece\n",
    "\n",
    "-puede haber mas de un modelo...\n",
    "\n",
    "Modelo2\n",
    "nombre\n",
    "los alumnos en si\n",
    "que materias cursa\n",
    "carreras que ofrece\n",
    "\n",
    "-Implementacion1 (estructura de datos de representacion)\n",
    "\n",
    "nombre: va a ser un string\n",
    "las materias:  van a a ser una lista.\n",
    "\n",
    "-Implementacion\n",
    "\n",
    "nombre: va a ser un string\n",
    "las materias:  van a a ser un diccionario.\n",
    "\n",
    "\n"
   ]
  },
  {
   "cell_type": "markdown",
   "metadata": {
    "id": "DyzOhAhyXPt8"
   },
   "source": [
    "### **Ejercicio 1**\n",
    "\n",
    "Implementar el TDA \"Propiedad\" que modela un inmueble, con una estructura definida por los siguientes componentes:\n",
    "- Calle\n",
    "- Número\n",
    "- Localidad\n",
    "- Año de construcción\n",
    "- Cantidad de ambientes\n",
    "\n",
    "Implementar las siguientes operaciones:\n",
    "- Constructor: Debe incluir las validaciones necesarias, teniendo en cuenta que solo se almacenan propiedades construidas luego de 1870.\n",
    "- \\_\\_repr__: Al usar la función *print* con una variable del tipo propiedad debe mostrar: **'calle' 'numero' ('localidad')**.\n",
    "- mismaLocalidad: Operación que recibe dos propiedades y retorna *True* si estan en la misma localidad y *False* en caso contrario.\n",
    "- mayorNumeración: Operación que recibe dos propiedades y si están en la misma calle, retorna la que posee mayor numeración. Si están calles diferentes debe lanzar una excepción.\n",
    "- calculaImpuestoARBA: Operación que retorna el porcentaje de impuesto inmobiliario de una propiedad, según la siguiente regla:\n",
    " - Propiedades entre 1870 y 1949:\n",
    "   - Entre 1 y 3 ambientes: 5% de impuesto\n",
    "   - Entre 4 y 6 ambientes: 10% de impuesto\n",
    "   - Más de 6 ambientes: 25 % de impuesto\n",
    " - Propiedades desde 1950 hasta la actualidad:\n",
    "   - Entre 1 y 5 ambientes: 5% de impuesto\n",
    "   - Más de 5 ambientes: 35 % de impuesto\n"
   ]
  },
  {
   "cell_type": "code",
   "execution_count": 1,
   "metadata": {
    "colab": {
     "base_uri": "https://localhost:8080/"
    },
    "executionInfo": {
     "elapsed": 253,
     "status": "ok",
     "timestamp": 1738675396963,
     "user": {
      "displayName": "Gonza Herlein",
      "userId": "04811470252948992572"
     },
     "user_tz": 180
    },
    "id": "RaEQSMR_cgI_",
    "outputId": "01a521c4-c934-4ddc-f4ba-ca6cb4bfa5fe"
   },
   "outputs": [
    {
     "name": "stdout",
     "output_type": "stream",
     "text": [
      "5% de impuesto\n"
     ]
    }
   ],
   "source": [
    "class Propiedad:\n",
    "  def __init__(self,calle = \"\",numero = 0, localidad = \"\", anio_construccion = 0, cantidad_ambientes = 0):\n",
    "    self.calle = calle\n",
    "    self.numero = numero\n",
    "    self.localidad = localidad\n",
    "    self.anio_construccion = anio_construccion\n",
    "    self.cantidad_ambientes = cantidad_ambientes\n",
    "\n",
    "  def __repr__(self):\n",
    "    cadenaPrint = self.calle + \" \" + str(self.numero) + \" ,\" + self.localidad\n",
    "    return cadenaPrint\n",
    "\n",
    "  def mismaLocalidad(propiedad1,propiedad2):\n",
    "    if(propiedad1.localidad == propiedad2.localidad):\n",
    "      return True\n",
    "    else:\n",
    "      return False\n",
    "\n",
    "  def mayorNumeracion(propiedad1,propiedad2):\n",
    "    if(propiedad1.calle == propiedad2.calle):\n",
    "      if(propiedad1.numero > propiedad2.numero):\n",
    "        return propiedad1\n",
    "      else:\n",
    "        return propiedad2\n",
    "    else:\n",
    "      raise Exception(\"Las propiedades estan en calles diferentes\")\n",
    "\n",
    "  def calculaImpuestoARBA(propiedad):\n",
    "\n",
    "    if(propiedad.anio_construccion >= 1870 and propiedad.anio_construccion <= 1949):\n",
    "      if(propiedad.cantidad_ambientes >= 1 and propiedad.cantidad_ambientes <= 3):\n",
    "        print(\"5% de impuesto\")\n",
    "      elif(propiedad.cantidad_ambientes >= 4 and propiedad.cantidad_ambientes <= 6):\n",
    "        print(\"10% de impuesto\")\n",
    "      else:\n",
    "        print(\"25% de impuesto\")\n",
    "    elif(propiedad.anio_construccion >= 1950):\n",
    "      if(propiedad.cantidad_ambientes >= 1 and propiedad.cantidad_ambientes <= 5):\n",
    "        print(\"5% de impuesto\")\n",
    "      else:\n",
    "        print(\"35% de impuestos\")\n",
    "    else:\n",
    "      raise Exception(\"No puede existir una propiedad con año de construccion menos a 1870\")\n",
    "\n",
    "\n",
    "propiedad1 = Propiedad(\"Belgica\", 578,\"Hurlingham\",1970,3)\n",
    "propiedad2 = Propiedad(\"Kiernan\", 600,\"Villa Tesei\",1900,6)\n",
    "\n",
    "Propiedad.calculaImpuestoARBA(propiedad1)\n",
    "\n"
   ]
  },
  {
   "cell_type": "markdown",
   "metadata": {
    "id": "rP1dZEXTe-qq"
   },
   "source": [
    "### **Ejercicio 2**\n",
    "\n",
    "Implementar el TDA \"Cuenta\" que modela una cuenta bancaria, la estructura de datos esta compuesta por los siguientes componentes:\n",
    "- Número de cuenta\n",
    "- DNI del titular\n",
    "- Saldo de cuenta actual\n",
    "- Interés anual\n",
    "\n",
    "Implementar las siguientes operaciones:\n",
    "- Constructor: Debe incluir las validaciones necesarias.\n",
    "- \\_\\_repr__: Al usar la función *print* con una variable del tipo cuenta debe mostrar: **Cuenta Nro: 'numero' - Titular: 'dni' ($'saldo')**.\n",
    "- actualizarSaldo: Operación que actualiza el saldo de la cuenta aplicándole el interés diario (interés anual dividido entre 365).\n",
    "- ingresarDinero: Operación que recibe un número e ingresa esa cantidad en la cuenta.\n",
    "- retirarDinero: Operación que recibe un número y extrae esa cantidad de la cuenta (si hay saldo disponible), sino debe lanzar una excepción."
   ]
  },
  {
   "cell_type": "code",
   "execution_count": 40,
   "metadata": {
    "colab": {
     "base_uri": "https://localhost:8080/",
     "height": 332
    },
    "executionInfo": {
     "elapsed": 553,
     "status": "error",
     "timestamp": 1738682094859,
     "user": {
      "displayName": "Gonza Herlein",
      "userId": "04811470252948992572"
     },
     "user_tz": 180
    },
    "id": "IEDFppP6hENW",
    "outputId": "e7ca8575-e3de-469d-cca2-90b959ce00cb"
   },
   "outputs": [
    {
     "name": "stdout",
     "output_type": "stream",
     "text": [
      "112.1917808219178\n"
     ]
    }
   ],
   "source": [
    "\n",
    "class Cuenta:\n",
    "  def __init__(self, numero_cuenta = 0, dni_titular = 0,saldo_cuenta = 0.0, interes_anual = 0):\n",
    "    self.numero_cuenta = numero_cuenta\n",
    "    self.dni_titular = dni_titular\n",
    "    self.saldo_cuenta = saldo_cuenta\n",
    "    self.interes_anual = interes_anual\n",
    "\n",
    "  def __repr__(self):\n",
    "    return f\"Cuenta Nro: {self.numero_cuenta} - Titular: {self.dni_titular} (${self.saldo_cuenta})\"\n",
    "\n",
    "  def actualizarSaldo(self):\n",
    "    interes_diario = self.saldo_cuenta * (float(self.interes_anual) / 365)\n",
    "    self.saldo_cuenta = self.saldo_cuenta + interes_diario\n",
    "\n",
    "  def ingresarDinero(self,montoAIngresar):\n",
    "    self.saldo_cuenta = self.saldo_cuenta + montoAIngresar\n",
    "\n",
    "  def retirarDinero(self,montoARetirar):\n",
    "    if(self.saldo_cuenta >= montoARetirar):\n",
    "      self.saldo_cuenta = self.saldo_cuenta - montoARetirar\n",
    "    else:\n",
    "      raise Exception(\"El monto a retirar es mayor al saldo disponible\")\n",
    "\n",
    "  def obtenerSaldo(self):\n",
    "    return(self.saldo_cuenta)\n",
    "\n",
    "\n",
    "cuenta1 = Cuenta(123,43861369,200.00,4)\n",
    "\n",
    "cuenta1.actualizarSaldo()\n",
    "cuenta1.ingresarDinero(10)\n",
    "cuenta1.retirarDinero(100)\n",
    "\n",
    "print(cuenta1.obtenerSaldo())\n"
   ]
  },
  {
   "cell_type": "markdown",
   "metadata": {
    "id": "x8DVU8HlhE2q"
   },
   "source": [
    "### **Ejercicio 3**\n",
    "\n",
    "Implementar el TDA \"Tiempo\" que modela una duracion en horas, minutos y segundos.\n",
    "\n",
    "Se deben implementar las siguientes operaciones:\n",
    "- Constructor: Debe incluir las validaciones necesarias, la hora debe ser un número positivo y los minutos y segundos deben ser números positivos entre 0 y 59.\n",
    "- \\_\\_repr__: Al usar la función *print* con una variable del tipo tiempo debe mostrar: **'horas':'minutos':'segundos'**.\n",
    "- tiempoASegundos: Operación que toma una variable de tipo tiempo y retorna la cantidad en segundos.\n",
    "- tiemposDesdeSegundos: Operación que recibe un tiempo en segundos como parámetro y retorna una variable de tipo tiempo, en horas minutos y segundos.\n",
    "- mayorDuracion: Operación que recibe dos variables de tipo tiempo y retorna la de mayor duración."
   ]
  },
  {
   "cell_type": "code",
   "execution_count": 4,
   "metadata": {
    "colab": {
     "base_uri": "https://localhost:8080/"
    },
    "executionInfo": {
     "elapsed": 258,
     "status": "ok",
     "timestamp": 1738703861115,
     "user": {
      "displayName": "Gonza Herlein",
      "userId": "04811470252948992572"
     },
     "user_tz": 180
    },
    "id": "ZtL44I9lI1Lf",
    "outputId": "c618e43e-ee13-456b-87c7-e3826ac4af81"
   },
   "outputs": [
    {
     "name": "stdout",
     "output_type": "stream",
     "text": [
      "3:34:21\n"
     ]
    }
   ],
   "source": [
    "def validarTipo(variable, nombre, tipo):\n",
    "  if isinstance(variable, tipo):\n",
    "    return variable\n",
    "  else:\n",
    "    raise Exception(\"La variable \" + nombre + \" debe ser de tipo \" + str(tipo) + \".\")\n",
    "\n",
    "def validarHora(variable:any, nombre:str):\n",
    "  validarTipo(variable,nombre,int)\n",
    "  if variable >= 0:\n",
    "    return variable\n",
    "  else:\n",
    "    raise Exception(\"La variable \" + nombre + \" debe ser un numero mayor o igual a 0\")\n",
    "\n",
    "def validarMinSeg(variable:any, nombre:str):\n",
    "  validarTipo(variable,nombre,int)\n",
    "  if 0 <= variable < 60:\n",
    "    return variable\n",
    "  else:\n",
    "    raise Exception(\"La variable \" + nombre + \" debe ser un numero entre 0 y 59\")\n",
    "\n",
    "class Tiempo:\n",
    "  def __init__(self,hora:int, minutos:int, segundos:int):\n",
    "    self.hora = validarHora(hora, \"hora\")\n",
    "    self.minutos = validarMinSeg(minutos, \"minutos\")\n",
    "    self.segundos = validarMinSeg(segundos, \"segundos\")\n",
    "\n",
    "  def __repr__(self)->str:\n",
    "    return f\"{self.hora}:{self.minutos}:{self.segundos}\"\n",
    "\n",
    "  def tiempoASegundos(self)->int:\n",
    "    return self.hora * 3600 + self.minutos * 60 + self.segundos\n",
    "\n",
    "  def tiempoDesdeSegundos(segundos:int):\n",
    "    cantidadDeHoras = segundos // 3600\n",
    "    segundos %= 3600\n",
    "    cantidadDeMinutos = segundos // 60\n",
    "    cantidadDeSegundos = segundos % 60\n",
    "    return Tiempo(cantidadDeHoras, cantidadDeMinutos, cantidadDeSegundos)\n",
    "\n",
    "  def mayorDuracion(tiempo1,tiempo2):\n",
    "    if(tiempo1.tiempoASegundos() > tiempo2.tiempoASegundos()):\n",
    "      return tiempo1\n",
    "    else:\n",
    "      return tiempo2\n",
    "\n",
    "  def __sub__(tiempo1,tiempo2):\n",
    "    diferencia = tiempo1.tiempoASegundos() - tiempo2.tiempoASegundos()\n",
    "    if diferencia >= 0:\n",
    "      return Tiempo.tiempoDesdeSegundos(diferencia)\n",
    "    else:\n",
    "      raise Exception(\"La diferencia de tiempos es negativa\")\n",
    "\n",
    "t1 = Tiempo(3,34,21)\n",
    "t2 = Tiempo(2,34,22)\n",
    "\n",
    "\n",
    "print(Tiempo.mayorDuracion(t1,t2))"
   ]
  },
  {
   "cell_type": "markdown",
   "metadata": {
    "id": "5gcdaYCShYkt"
   },
   "source": [
    "\n",
    "### **Ejercicio 4: TDA en dos niveles**\n",
    "\n",
    "Modelar el TDA \"Cronometro\", que contiene un tiempo inicial y un tiempo final.\n",
    "\n",
    "Se deben implementar las siguientes operaciones:\n",
    "\n",
    "- Constructor: Queremos modelar el tiempo inicial y final con el TDA \"Tiempo\". Se pueden tener dos variables que se inicializaran en otra operación de la interface.\n",
    "- Comenzar: Debe recibir las hs,min y seg iniciales.\n",
    "- Finalizar: Debe recibir las hs,min y seg finales.\n",
    "- TiempoEmpleado: Devuelve una variable de tipo Tiempo con la diferencia entre el tiempo inicial y el final."
   ]
  },
  {
   "cell_type": "code",
   "execution_count": 5,
   "metadata": {
    "colab": {
     "base_uri": "https://localhost:8080/"
    },
    "executionInfo": {
     "elapsed": 276,
     "status": "ok",
     "timestamp": 1738704916870,
     "user": {
      "displayName": "Gonza Herlein",
      "userId": "04811470252948992572"
     },
     "user_tz": 180
    },
    "id": "5Y-A98mZkTEq",
    "outputId": "7a033de3-3ae8-491e-e48a-f6f5ad04514e"
   },
   "outputs": [
    {
     "name": "stdout",
     "output_type": "stream",
     "text": [
      "17:51:40 - 19:0:2\n",
      "1:8:22\n"
     ]
    }
   ],
   "source": [
    "def validarTipo(variable, nombre, tipo):\n",
    "  if isinstance(variable, tipo):\n",
    "    return variable\n",
    "  else:\n",
    "    raise Exception(\"La variable \" + nombre + \" debe ser de tipo \" + str(tipo) + \".\")\n",
    "\n",
    "def validarOrdenTiempos(tiempoInicial,tiempoFinal):\n",
    "  if tiempoFinal.tiempoASegundos() < tiempoInicial.tiempoASegundos():\n",
    "    raise Exception(\"El tiempo final debe ser mayor al tiempo inicial\")\n",
    "\n",
    "\n",
    "class Cronometro:\n",
    "  def __init__(self, tiempoInicial:Tiempo = None, tiempoFinal:Tiempo = None):\n",
    "    self.tiempoInicial = None\n",
    "    self.tiempoFinal = None\n",
    "    if tiempoInicial != None:\n",
    "      self.tiempoInicial = validarTipo(tiempoInicial,\"tiempoInicial\", Tiempo)\n",
    "    if tiempoInicial != None:\n",
    "      self.tiempoFinal = validarTipo(tiempoFinal,\"tiempoFinal\", Tiempo)\n",
    "    if tiempoInicial != None and tiempoFinal != None:\n",
    "      validarOrdenTiempos(tiempoInicial,tiempoFinal)\n",
    "\n",
    "  def __repr__(self):\n",
    "    return f\"{str(self.tiempoInicial)} - {str(self.tiempoFinal)}\"\n",
    "\n",
    "  def comenzar(self, horas:int, minutos:int, segundos:int):\n",
    "    self.tiempoInicial = Tiempo(horas,minutos,segundos)\n",
    "    self.tiempoFinal = None\n",
    "\n",
    "  def finalizar(self, horas:int, minutos:int, segundos:int):\n",
    "    final = Tiempo(horas,minutos,segundos)\n",
    "    validarOrdenTiempos(self.tiempoInicial, final)\n",
    "    self.tiempoFinal = final\n",
    "\n",
    "  def tiempoEmpleado(self)->Tiempo:\n",
    "    tiempoTotal = None\n",
    "    if (self.tiempoInicial != None) and (self.tiempoFinal != None):\n",
    "      tiempoTotal = self.tiempoFinal - self.tiempoInicial\n",
    "    return tiempoTotal\n",
    "\n",
    "crono1 = Cronometro()\n",
    "crono1.comenzar(17,51,40)\n",
    "crono1.finalizar(19,0,2)\n",
    "print(crono1)\n",
    "print(crono1.tiempoEmpleado())\n"
   ]
  },
  {
   "cell_type": "markdown",
   "metadata": {
    "id": "TX3EbDojGmAV"
   },
   "source": [
    "### **Ejercicio 5: TDA en dos niveles**\n",
    "\n",
    "Modelar el TDA \"Rectangulo\" a partir de los dos lados que lo definen.\n",
    "\n",
    "Se deben implementar las siguientes operaciones:\n",
    "\n",
    "- Constructor: Recibe las longitudes de ambos lados\n",
    "- area: calcula y devuelve el area del rectangulo\n",
    "- perimetro: calcula y devuelve el perimetro\n",
    "- \\_\\_repr__ : imprime la longitud de los lados\n",
    "\n",
    "Luego, modelar el TDA \"Cuadrado\" teniendo unicamente como variable interna en la estructura una variable de tipo \"Rectangulo\". El TDA Cuadrado debe tener las mismas operaciones que el TDA Rectangulo.\n",
    "\n",
    "Ayuda:\n",
    "\n",
    "Área(Rectángulo) = lado1 \\* lado2\n",
    "\n",
    "Área(Cuadrado) = lado^2\n",
    "\n",
    "Perímetro(Rectangulo) = 2 \\* lado1 + 2 \\* lado2\n",
    "\n",
    "Perímetro(Cuadrado) = 4 \\* lado"
   ]
  },
  {
   "cell_type": "code",
   "execution_count": 13,
   "metadata": {
    "id": "SdouD_FtQa11"
   },
   "outputs": [
    {
     "ename": "Exception",
     "evalue": "Los lados son distintos",
     "output_type": "error",
     "traceback": [
      "\u001b[1;31m---------------------------------------------------------------------------\u001b[0m",
      "\u001b[1;31mException\u001b[0m                                 Traceback (most recent call last)",
      "Cell \u001b[1;32mIn[13], line 48\u001b[0m\n\u001b[0;32m     43\u001b[0m          \u001b[38;5;28;01mreturn\u001b[39;00m \u001b[38;5;124mf\u001b[39m\u001b[38;5;124m\"\u001b[39m\u001b[38;5;124mCuadrado: \u001b[39m\u001b[38;5;132;01m{\u001b[39;00m\u001b[38;5;28mself\u001b[39m\u001b[38;5;241m.\u001b[39mlado1\u001b[38;5;132;01m}\u001b[39;00m\u001b[38;5;124m\"\u001b[39m\n\u001b[0;32m     47\u001b[0m rec1 \u001b[38;5;241m=\u001b[39m Rectangulo(\u001b[38;5;241m2\u001b[39m,\u001b[38;5;241m3\u001b[39m)\n\u001b[1;32m---> 48\u001b[0m cua1 \u001b[38;5;241m=\u001b[39m \u001b[43mCuadrado\u001b[49m\u001b[43m(\u001b[49m\u001b[43mrec1\u001b[49m\u001b[38;5;241;43m.\u001b[39;49m\u001b[43mlado1\u001b[49m\u001b[43m,\u001b[49m\u001b[43m \u001b[49m\u001b[43mrec1\u001b[49m\u001b[38;5;241;43m.\u001b[39;49m\u001b[43mlado2\u001b[49m\u001b[43m)\u001b[49m\n\u001b[0;32m     51\u001b[0m \u001b[38;5;28mprint\u001b[39m(rec1)\n\u001b[0;32m     52\u001b[0m \u001b[38;5;28mprint\u001b[39m(rec1\u001b[38;5;241m.\u001b[39marea())\n",
      "Cell \u001b[1;32mIn[13], line 34\u001b[0m, in \u001b[0;36mCuadrado.__init__\u001b[1;34m(self, lado1, lado2)\u001b[0m\n\u001b[0;32m     32\u001b[0m    \u001b[38;5;28mself\u001b[39m\u001b[38;5;241m.\u001b[39mlado1 \u001b[38;5;241m=\u001b[39m validarEnteroPositivo(lado1,\u001b[38;5;124m\"\u001b[39m\u001b[38;5;124mlado\u001b[39m\u001b[38;5;124m\"\u001b[39m)\n\u001b[0;32m     33\u001b[0m \u001b[38;5;28;01melse\u001b[39;00m:\n\u001b[1;32m---> 34\u001b[0m    \u001b[38;5;28;01mraise\u001b[39;00m \u001b[38;5;167;01mException\u001b[39;00m(\u001b[38;5;124m\"\u001b[39m\u001b[38;5;124mLos lados son distintos\u001b[39m\u001b[38;5;124m\"\u001b[39m)\n",
      "\u001b[1;31mException\u001b[0m: Los lados son distintos"
     ]
    }
   ],
   "source": [
    "def validarTipo(variable, nombre, tipo):\n",
    "  if isinstance(variable, tipo):\n",
    "    return variable\n",
    "  else:\n",
    "    raise Exception(\"La variable \" + nombre + \" debe ser de tipo \" + str(tipo) + \".\")\n",
    "\n",
    "def validarEnteroPositivo(variable:any, nombre:str):\n",
    "  validarTipo(variable,nombre,int)\n",
    "  if variable > 0:\n",
    "    return variable\n",
    "  else:\n",
    "    raise Exception(\"La variable \" + nombre + \" debe ser un numero mayor a 0\")\n",
    "\n",
    "class Rectangulo:\n",
    "    def __init__(self, lado1:int = 0,lado2:int = 0):\n",
    "        self.lado1 = validarEnteroPositivo(lado1,\"lado1\")\n",
    "        self.lado2 = validarEnteroPositivo(lado2,\"lado2\")\n",
    "\n",
    "    def __repr__(self):\n",
    "       return f\"Rectangulo ({str(self.lado1)}, {str(self.lado2)})\"\n",
    "    \n",
    "    def area(self):\n",
    "       return(self.lado1 * self.lado2)\n",
    "    \n",
    "    def perimetro(self):\n",
    "       return((2 * self.lado1) + (2 * self.lado2))\n",
    "\n",
    "class Cuadrado(Rectangulo):\n",
    "      def __init__(self,lado1:int = 0,lado2:int = 0):\n",
    "         rectangulo = Rectangulo(lado1,lado2)\n",
    "         if(rectangulo.lado1 == rectangulo.lado2):\n",
    "            self.lado1 = validarEnteroPositivo(lado1,\"lado\")\n",
    "         else:\n",
    "            raise Exception(\"Los lados son distintos\")\n",
    "          \n",
    "      def area(self):\n",
    "         return(self.lado1 ** 2)\n",
    "      \n",
    "      def perimetro(self):\n",
    "         return(4 * self.lado1)\n",
    "      \n",
    "      def __repr__(self):\n",
    "         return f\"Cuadrado: {self.lado1}\"\n",
    "\n",
    "\n",
    "\n",
    "rec1 = Rectangulo(2,3)\n",
    "print(rec1)\n",
    "print(rec1.area())\n",
    "print(rec1.perimetro())\n",
    "\n",
    "print(\"-----\")\n",
    "\n",
    "cua1 = Cuadrado(rec1.lado1, rec1.lado2)\n",
    "print(cua1)\n",
    "print(cua1.area())\n",
    "print(cua1.perimetro())"
   ]
  },
  {
   "cell_type": "markdown",
   "metadata": {
    "id": "30rZj5FbkT9T"
   },
   "source": [
    "### **Ejercicio 6 (opcional)**\n",
    "\n",
    "Las plataformas de música online como ***YouTube*** y ***Spotify*** almacenan la información asociada a las canciones en estructuras de datos complejas para hacer las búsquedas de manera eficiente. Para esto se deben modelar las canciones. Implementar el TDA \"Cancion\" con los siguientes componentes:\n",
    "- Nombre\n",
    "- Artista\n",
    "- Duración\n",
    "- Género musical (6 posibles: Rock, Jazz, Blues, Funk, Reggae y Rap).\n",
    "- Año de edición\n",
    "- Número de likes\n",
    "\n",
    "Implementar las siguientes operaciones:\n",
    "- Constructor: Debe incluir las validaciones necesarias.\n",
    "- \\_\\_repr__: Al usar la función *print* con una variable del tipo canción debe mostrar: **'nombre' - 'artista' ('duracion')**.\n",
    "- mayorDuracion: Operación que recibe dos canciones por parámetros y retorna la de mayor duración.\n",
    "- agregaLikes: Operación que recibe un número e incrementa la cantidad de likes de la canción en ese número.\n",
    "- masVotada: Operacion que recibe dos canciones y sin son del mismo artista y del mismo género musical, retorna la que tiene mayor cantidad de likes. En caso contrario debe lanzar una excepción."
   ]
  },
  {
   "cell_type": "code",
   "execution_count": 24,
   "metadata": {
    "id": "TTZTalMgQcQ0"
   },
   "outputs": [
    {
     "name": "stdout",
     "output_type": "stream",
     "text": [
      "10001\n",
      "10000\n",
      "Te vete - Feid (0:3:43)\n"
     ]
    }
   ],
   "source": [
    "def validarTipo(variable, nombre, tipo):\n",
    "  if isinstance(variable, tipo):\n",
    "    return variable\n",
    "  else:\n",
    "    raise Exception(\"La variable \" + nombre + \" debe ser de tipo \" + str(tipo) + \".\")\n",
    "\n",
    "def validarHora(variable:any, nombre:str):\n",
    "  validarTipo(variable,nombre,int)\n",
    "  if variable >= 0:\n",
    "    return variable\n",
    "  else:\n",
    "    raise Exception(\"La variable \" + nombre + \" debe ser un numero mayor o igual a 0\")\n",
    "\n",
    "def validarMinSeg(variable:any, nombre:str):\n",
    "  validarTipo(variable,nombre,int)\n",
    "  if 0 <= variable < 60:\n",
    "    return variable\n",
    "  else:\n",
    "    raise Exception(\"La variable \" + nombre + \" debe ser un numero entre 0 y 59\")\n",
    "\n",
    "class Tiempo:\n",
    "  def __init__(self,hora:int, minutos:int, segundos:int):\n",
    "    self.hora = validarHora(hora, \"hora\")\n",
    "    self.minutos = validarMinSeg(minutos, \"minutos\")\n",
    "    self.segundos = validarMinSeg(segundos, \"segundos\")\n",
    "\n",
    "  def __repr__(self)->str:\n",
    "    return f\"{self.hora}:{self.minutos}:{self.segundos}\"\n",
    "\n",
    "  def tiempoASegundos(self)->int:\n",
    "    return self.hora * 3600 + self.minutos * 60 + self.segundos\n",
    "\n",
    "  def tiempoDesdeSegundos(segundos:int):\n",
    "    cantidadDeHoras = segundos // 3600\n",
    "    segundos %= 3600\n",
    "    cantidadDeMinutos = segundos // 60\n",
    "    cantidadDeSegundos = segundos % 60\n",
    "    return Tiempo(cantidadDeHoras, cantidadDeMinutos, cantidadDeSegundos)\n",
    "\n",
    "  def mayorDuracion(tiempo1,tiempo2):\n",
    "    if(tiempo1.tiempoASegundos() > tiempo2.tiempoASegundos()):\n",
    "      return tiempo1\n",
    "    else:\n",
    "      return tiempo2\n",
    "\n",
    "  def __sub__(tiempo1,tiempo2):\n",
    "    diferencia = tiempo1.tiempoASegundos() - tiempo2.tiempoASegundos()\n",
    "    if diferencia >= 0:\n",
    "      return Tiempo.tiempoDesdeSegundos(diferencia)\n",
    "    else:\n",
    "      raise Exception(\"La diferencia de tiempos es negativa\")\n",
    "\n",
    "class Cancion:\n",
    "    def __init__(self, nombre:str = \"\",artista:str = \"\",duracion:Tiempo = None, genero_musical:str = \"\",anio_edicion:int = 0,cantLikes:int = 0):\n",
    "        self.nombre = nombre\n",
    "        self.artista = artista\n",
    "        self.duracion = duracion\n",
    "        self.genero_musical = genero_musical\n",
    "        self.anio_edicion = anio_edicion\n",
    "        self.cantLikes = cantLikes\n",
    "\n",
    "    def __repr__(self):\n",
    "        return f\"{self.nombre} - {self.artista} ({self.duracion})\"     \n",
    "    \n",
    "    def mayorDuracion(cancion1,cancion2):\n",
    "        if cancion1.duracion.tiempoASegundos() > cancion2.duracion.tiempoASegundos():\n",
    "          return cancion1\n",
    "        else:\n",
    "          return cancion2\n",
    "        \n",
    "    def agregarLike(self,cantidadDeLikes):\n",
    "        self.cantLikes += cantidadDeLikes\n",
    "\n",
    "    def masVotada(cancion1,cancion2):\n",
    "      if cancion1.artista == cancion2.artista and cancion1.genero_musical == cancion2.genero_musical:\n",
    "         if(cancion1.cantLikes > cancion2.cantLikes):\n",
    "            return cancion1\n",
    "         else:\n",
    "            return cancion2\n",
    "      else:\n",
    "        raise Exception(\"Las canciones son de artista distintos o generos distintos\")\n",
    "\n",
    "\n",
    "cancion1 = Cancion(\"Te vete\", \"Feid\",Tiempo(0,3,43),\"Reggeaton\",2020,10001)\n",
    "cancion2 = Cancion(\"Te vete remix\", \"Feid\",Tiempo(0,3,44),\"Reggeaton\",2020,10000)\n",
    "\n",
    "print(cancion1.cantLikes)\n",
    "print(cancion2.cantLikes)\n",
    "print(Cancion.masVotada(cancion1,cancion2))"
   ]
  },
  {
   "cell_type": "markdown",
   "metadata": {
    "id": "1yx_0M8PtkmE"
   },
   "source": [
    "### **Ejercicio 7 (opcional)**\n",
    "\n",
    "Implementar el TDA \"Quiniela\" que modela un juego de quiniela con dos números premiados. La estructura contiene:\n",
    "- Primer número premiado\n",
    "- Segundo número premiado\n",
    "- Multiplicador (cuánto se paga por cada peso apostado)\n",
    "\n",
    "Implementar las siguientes operaciones:\n",
    "- Constructor: Debe incluir las validaciones necesarias, teniendo en cuenta que los números que participan se encuentran entre 0 y 999.\n",
    "- \\_\\_repr__: Al usar la función *print* con una variable del tipo quiniela debe mostrar: **Primer número ganador: 'numero' - Segundo número ganador: 'numero' - Paga: 'multiplicador'X**.\n",
    "- esNumeroGanador: Operación que recibe un número por parámetros y retorna *True* si el número resultó ganador o *False* en caso contrario.\n",
    "- importeAPagar: Operación que recibe un número y el monto apostado por parámetros y retorna el importe a pagar si la apuesta es ganadora o 0 en caso contrario. Si el número es el primer premio, se paga 'mutiplicador' por cada peso apostado, si es el segundo premio se paga la mitad. Solo se aceptan apuestas hasta $1000.\n",
    "- premiadosCercanos: Operación que retorna *True* si los números premiados están a menos de 10 números de distancia y *False* en caso contrario.\n",
    "\n",
    "\n"
   ]
  },
  {
   "cell_type": "code",
   "execution_count": 39,
   "metadata": {
    "id": "9GV2zPFaQeQM"
   },
   "outputs": [
    {
     "name": "stdout",
     "output_type": "stream",
     "text": [
      "True\n"
     ]
    }
   ],
   "source": [
    "def validarTipo(variable, nombre, tipo):\n",
    "  if isinstance(variable, tipo):\n",
    "    return variable\n",
    "  else:\n",
    "    raise Exception(\"La variable \" + nombre + \" debe ser de tipo \" + str(tipo) + \".\")\n",
    "  \n",
    "def validarEnteroPositivo(variable:any, nombre:str):\n",
    "  validarTipo(variable,nombre,int)\n",
    "  if variable > 0:\n",
    "    return variable\n",
    "  else:\n",
    "    raise Exception(\"La variable \" + nombre + \" debe ser un numero mayor a 0\") \n",
    "\n",
    "class Quiniela:\n",
    "    def __init__(self, primerNumero:int = 0, segundoNumero:int = 0, multiplicador:int = 0):\n",
    "        self.primerNumero = validarEnteroPositivo(primerNumero,\"primer numero\")\n",
    "        self.segundoNumero = validarEnteroPositivo(segundoNumero,\"segundo numero\")\n",
    "        self.multiplador = validarEnteroPositivo(multiplicador,\"multiplicador\")\n",
    "    \n",
    "    def __repr__(self):\n",
    "       return f\"Primera número ganador: {self.primerNumero} - Segundo número ganador: {self.segundoNumero} - Paga: {self.multiplador}X\"\n",
    "\n",
    "    def esNumeroGanador(self,numero):\n",
    "       if numero == self.primerNumero:\n",
    "          return True\n",
    "       else:\n",
    "          return False\n",
    "\n",
    "    def importeAPagar(self,numero, montoApostado):\n",
    "       if montoApostado <= 1000:\n",
    "          if numero == self.primerNumero:\n",
    "             return montoApostado * self.multiplador\n",
    "          elif numero == self.segundoNumero:\n",
    "             return montoApostado // 2\n",
    "          else:\n",
    "             return 0\n",
    "       else:\n",
    "          raise Exception(\"Solo se aceptan montos menos o iguales a $1000\")\n",
    "\n",
    "    def premiadosCercanos(self):\n",
    "       if self.primerNumero > self.segundoNumero and (self.primerNumero - self.segundoNumero) == 10:\n",
    "          return True\n",
    "       elif(self.segundoNumero > self.primerNumero and (self.segundoNumero - self.primerNumero) == 10):\n",
    "          return True\n",
    "       else:\n",
    "          return False\n",
    "       \n",
    "quini = Quiniela(60,50,2)\n",
    "\n",
    "\n",
    "print(quini.premiadosCercanos())"
   ]
  }
 ],
 "metadata": {
  "colab": {
   "provenance": [
    {
     "file_id": "1h3cr9gAgvMovVO0aTsVHgYRz1vUMcsEE",
     "timestamp": 1738673696113
    },
    {
     "file_id": "1bEjgIrGtX63W6fI0_UdY_IsZYPB_picO",
     "timestamp": 1712233802035
    }
   ]
  },
  "kernelspec": {
   "display_name": "Python 3",
   "name": "python3"
  },
  "language_info": {
   "codemirror_mode": {
    "name": "ipython",
    "version": 3
   },
   "file_extension": ".py",
   "mimetype": "text/x-python",
   "name": "python",
   "nbconvert_exporter": "python",
   "pygments_lexer": "ipython3",
   "version": "3.11.9"
  }
 },
 "nbformat": 4,
 "nbformat_minor": 0
}
